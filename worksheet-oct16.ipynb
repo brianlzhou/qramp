{
 "cells": [
  {
   "cell_type": "markdown",
   "id": "0476744e-f71b-4f1e-bb49-05cb1ac3f4a2",
   "metadata": {},
   "source": [
    "# Introduction"
   ]
  },
  {
   "cell_type": "markdown",
   "id": "c1628ba3-10a1-49c5-83bc-a3ddaaa6b1e0",
   "metadata": {},
   "source": [
    "### Motivation\n",
    "Welcome to the Harvard-qBraid program, which is an experiential learning program. We have worked hard to identify problems at the bleeding edge of quantum computing yet are approachable with minimal background knowledge. We do not expect you to completely solve any of the problems we have identified for you, but rather give you a flavor of what it's like to struggle with the most challenging problems in quantum computing and make some progress in a positive direction. However, if you solve one of the problems meaningfully, that would be amazing, and you will push the field forward. Our hope is that through this program, you will\n",
    "\n",
    "- Learn enough quantum computing to start tacking one of the projects part of this program\n",
    "- Become proficient in quantum computing software (enough to build quantum circuits, simulate them, or run them on quantum computers)\n",
    "- Make enough progress on your project that future cohorts of this program can start from where you left off. Although, we hope that at least a few of you will carry on with the projects beyond this program, and we would love to see at least one of you at qBraid the upcoming summer.\n",
    "\n",
    "As you learn, execute, and deliver results on your project, our job will be to be there for you as a resource and a mentor. We will strive to provide an objective overview of the field of quantum computing and its many approachable open problems. As you learn more and develop a researcher's mindset, you will appreciate how asking the right questions is sometimes more important than the right answers. And our goal is to provide you access to qBraid scientists who can be sounding boards for you as you learn to navigate your way through cutting-edge research.\n",
    "\n",
    "## Examples of a successful project\n",
    "\n",
    "Following are some hypothetical examples of what a successful project might look like: \n",
    "\n",
    "- Assuming the project is to build education materials for quantum computing. A successful project would deliver a well-documented Github repository that contains all the content you would create for the project. The project would be considered a success if it has an innovative take on previously published explanations, e.g., it contains newly developed interactive widgets, animations, and new analogies.\n",
    "\n",
    "- Assuming the project is to use machine learning/artificial intelligence to optimize quantum circuit depths. A successful project would deliver a well-documented GitHub repository that contains a machine-learning model that takes input quantum circuits and outputs quantum circuits of lower depths. The project will have well-defined and documented inputs and outputs for the machine learning model. Further, it will contain extensive tests that verify the correctness of the machine learning model. A project that could become worthy of publication will also compare state-of-the-art methods to show how much better it is than previous approaches.\n",
    "\n",
    "\n",
    "Here is a notebook on how to start. You can start at the beginning or start at the first challenge you don't know how to complete. "
   ]
  },
  {
   "cell_type": "markdown",
   "id": "78e16ede-c4bd-4c9f-82ce-a990b1675c2c",
   "metadata": {},
   "source": [
    "# Plan of Execution"
   ]
  },
  {
   "cell_type": "markdown",
   "id": "033f0e22-1a13-4116-bc8a-48193aa37a35",
   "metadata": {},
   "source": [
    "The first 2-3 weeks of this program will focus primarily on learning your projects' background material. Below, you will find various paths we provide for you to come up to speed, depending on your current skill level. There are three main parts to this program:\n",
    "\n",
    "1. Learning: the goal is to become comfortable with quantum computing concepts and basic quantum programming.\n",
    "2. Research and experimentation: the goal is to work on your research project, make progress, and try new ideas!\n",
    "3. Results and documentation: document your work, and draw up and present your work."
   ]
  },
  {
   "cell_type": "markdown",
   "id": "a00b1d49-6cec-41b6-8366-0bbe96f37127",
   "metadata": {},
   "source": [
    "## New to Quantum Computing?"
   ]
  },
  {
   "cell_type": "markdown",
   "id": "04f45474-b9b9-422b-8ac5-08f97c12f8e9",
   "metadata": {},
   "source": [
    "Start by going through the [Qubes course](https://qbook.qbraid.com/learn/?course=622a3974db28ef59ae21c02b&file=622a3975db28ef59ae21c03b) on qBraid. Teams with less/no quantum experience should start here, as should the educational platform development team. Teams 1, 3, 4, 6, 7, 8, 13 should consider starting here, even if if you just take a few hours to skim through the material.\n",
    "\n",
    "\n",
    "Other resources:\n",
    "\n",
    "1. Quantum Computation and Quantum Information by Nielsen and Chuang (classic textbook used in the field)\n",
    "2. [Notes](http://theory.caltech.edu/~preskill/ph229/) from John Preskill from his CalTech course "
   ]
  },
  {
   "cell_type": "markdown",
   "id": "6e0e74ad-8d1b-43cd-b4fa-78ac76ca03f9",
   "metadata": {},
   "source": [
    "## New to Quantum Programming?"
   ]
  },
  {
   "cell_type": "markdown",
   "id": "abdc6e7e-f743-4b63-8724-67575b8b4fa0",
   "metadata": {},
   "source": [
    "Familiarize yourself with your qBraid account. Load the Qiskit environment and familiarize yourself with basic circuit and gate syntax. Try implementing the following in Qiskit:\n",
    "\n",
    "1. a) Write any two-qubit circuit on paper. b) Carry out the by-hand matrix multiplication to find both the net unitary matrix and final state. c) Code the 2 qubit circuit using qiskit d) Use qiskit to extract the net unitary matrix and final state to compare with your by-hand result.\n",
    "2. Quantum teleportation protocol\n",
    "3. Deutsch Algorithm\n",
    "4. Bernstein-Vazirani Algorithm"
   ]
  },
  {
   "cell_type": "markdown",
   "id": "4be10329-bfd8-40f6-9048-d186dbc88fe8",
   "metadata": {},
   "source": [
    "Think about each algorithm, and ensure you understand the algorithm conceptually, as well as the code. \n",
    "\n",
    "Resources:\n",
    "1. [IBM Learning](https://learning.quantum.ibm.com/)\n",
    "2. [Microsoft Azure](https://quantum.microsoft.com/en-us/insights/education)\n",
    "3. [Cirq](https://quantumai.google/cirq)"
   ]
  },
  {
   "cell_type": "markdown",
   "id": "5987884a-4ab5-40b3-9503-bc40af394ec3",
   "metadata": {},
   "source": [
    "## New to Quantum Applications?"
   ]
  },
  {
   "cell_type": "markdown",
   "id": "1eaa57d8-a868-499b-8e3f-894016a5fa4f",
   "metadata": {},
   "source": [
    "Start with the Variational Quantum Eigensolver. Understand the algorithm conceptually, and then implement it from scratch in Qiskit. Once you have a custom implementation, use the in-built Qiskit implementation, and compare it. \n",
    "\n",
    "Try using various simulators and compare their performance."
   ]
  },
  {
   "cell_type": "markdown",
   "id": "50cfb858-340f-44ad-bdc6-decf8fb496c1",
   "metadata": {},
   "source": [
    "VQE is commonly used for chemistry applications - try using Qiskit's VQE for calculating the ground state energy of some simple molecules, such as the Hydrogen molecule, or water. You can use pyscf as a backend for the chemistry."
   ]
  },
  {
   "cell_type": "markdown",
   "id": "c310dec7-b618-47de-bc2c-8571db14a833",
   "metadata": {},
   "source": [
    "Interested in some other application? Try to convert the problem of interest to you into an optimization problem and applying VQE to it."
   ]
  },
  {
   "cell_type": "markdown",
   "id": "3f6c0a21-a01c-459a-8a5e-d2c4c7de2319",
   "metadata": {},
   "source": [
    "A good resource for VQE is the IBM Learn [Variational Algorithm Design](https://learning.quantum.ibm.com/course/variational-algorithm-design). I encourage every team to try using VQE for an application of their choice, it is an important algorithm! "
   ]
  },
  {
   "cell_type": "markdown",
   "id": "c1a87653-6131-4739-afba-e6a4ae317bfb",
   "metadata": {},
   "source": [
    "By Week 4 (November 13), every team should feel comfortable with coding using Qiskit, reading a quantum circuit, and understanding and using VQE. "
   ]
  },
  {
   "cell_type": "markdown",
   "id": "e06cf6da-2d6a-473f-a722-9f23cb63976b",
   "metadata": {},
   "source": [
    "# Various Projects"
   ]
  },
  {
   "cell_type": "markdown",
   "id": "0e3b065c-f882-40da-b385-639e58a068fb",
   "metadata": {},
   "source": [
    "## ML/AI Teams"
   ]
  },
  {
   "cell_type": "markdown",
   "id": "0d6fda3c-1296-4c1d-b7d5-a1c4b42b3e04",
   "metadata": {},
   "source": [
    "There are various projects you could consider. Some options are given below:\n",
    "\n",
    "1. Go through the Transpilation guide [here](https://docs.quantum.ibm.com/guides/transpile). Look at the optimization levels and how Qiskit optimizes between levels 0, 1, 2, and 3. One possible project is using ML to optimize circuits further. You could pick any/all steps of the process: building/generating a circuit database, training, testing, or exploring the theoretical basis of this work.\n",
    "\n",
    "2. Explore Quantum Reservoir Computing, understand its basics. Read about various properties you could predict with QRC, focussing on dynamic properties (time series). Lots of active research is being done on \n",
    "\n",
    "3. Look at quantum enhanced reinforcement learning, and implement a classical algorithm with quantum circuits"
   ]
  },
  {
   "cell_type": "markdown",
   "id": "1bfb72f2-8b52-410e-a6e7-dc779e9a69f8",
   "metadata": {},
   "source": [
    "## Quantum Algorithms Teams"
   ]
  },
  {
   "cell_type": "markdown",
   "id": "6accd61a-4571-42ce-bba8-e592d4a3d53b",
   "metadata": {},
   "source": [
    "There are various options for you:\n",
    "\n",
    "1. Read about Hamiltonian Truncation [here](https://arxiv.org/pdf/2402.01630). Think about how to implement it using Qiskit 1.2, and how we can use this algorithm to speed up quantum chemistry calculations.\n",
    "\n",
    "2. Look at algorithms on the [Quantum Algorithm Zoo](https://quantumalgorithmzoo.org). Find a few that interest you (bonus points if they're not already implemented elsewhere), and implement them. Add them to [qBraid-algorithms](https://github.com/qBraid/qbraid-algorithms/tree/main)\n",
    "\n",
    "3. Check out [Stim](https://github.com/quantumlib/Stim), a good resource for quantum error correction. Explore ways to expand its functionality by introducing new error correction algorithms."
   ]
  },
  {
   "cell_type": "markdown",
   "id": "ab7a5c2c-c071-42a8-ae2c-cd637b1d1746",
   "metadata": {},
   "source": [
    "## Educational Development Teams"
   ]
  },
  {
   "cell_type": "markdown",
   "id": "0803a085-3d87-4ad4-8673-8541666f224a",
   "metadata": {},
   "source": [
    "As you learn about various quantum topics, keep an eye out for what topics interest you and you want to make content about. Think about ways to make learning materials that are interactive, unique, and student-centered. Remember to document what you learn as you learn it, it will help as you develop your own materials."
   ]
  },
  {
   "cell_type": "markdown",
   "id": "98fa17c6-ebbe-416e-b12b-572e52fa56b2",
   "metadata": {},
   "source": [
    "# Resources and Tips\n",
    "\n",
    "Resources:\n",
    "\n",
    "1. [qBook](https://qbook.qbraid.com/): Home to [Qubes](https://qbook.qbraid.com/learn/?course=622a3974db28ef59ae21c02b&file=622a3975db28ef59ae21c03b), and a new education platform where quantum courses are developed and published\n",
    "2. [qBraid Docs](https://docs.qbraid.com/): All documentation for using the qBraid SDK and Lab\n",
    "3. John Preskill's [Notes](http://theory.caltech.edu/~preskill/ph229/)\n",
    "4. [IBM Learning](https://learning.quantum.ibm.com/)\n",
    "5. [Cirq](https://quantumai.google/cirq)\n",
    "6. [Qiskit Nature](https://qiskit-community.github.io/qiskit-nature/)\n",
    "7. [Stim](https://github.com/quantumlib/Stim)\n",
    "8. [Microsoft Azure](https://quantum.microsoft.com/en-us/insights/education)\n",
    "9. [Quantum Algorithm Zoo](https://quantumalgorithmzoo.org)\n",
    "\n",
    "Machine learning:\n",
    "1. [PyTorch](https://pytorch.org/tutorials/)\n",
    "2. [Jax](https://jax.readthedocs.io/en/latest/quickstart.html)\n",
    "3. Karpathy's step-by-step [lecutre](https://www.youtube.com/watch?v=VMj-3S1tku0&list=PLAqhIrjkxbuWI23v9cThsA9GvCAUhRvKZ)\n",
    "\n",
    "Tips:\n",
    "\n",
    "- In the learning phase, try to document what you're learning - it'll help later on!\n",
    "- Talk to each other!\n",
    "- Check out a variety of resources (blogs, tutorials, StackExchange, videos, course notes, etc)\n",
    "\n"
   ]
  },
  {
   "cell_type": "markdown",
   "id": "1b46999b-f910-4811-a027-b1f9e8a67e04",
   "metadata": {},
   "source": [
    "# qBraid Platform Demo "
   ]
  },
  {
   "cell_type": "markdown",
   "id": "8748f8b7-d343-4f02-a0a0-338a842d4d9e",
   "metadata": {},
   "source": [
    "1. Use your Harvard email to sign up for your qBraid account\n",
    "2. You can use the code EHNU6626 for 500 free credits"
   ]
  },
  {
   "cell_type": "code",
   "execution_count": null,
   "id": "d2a77ae1-f0e3-4c09-9dfc-ddbdea40c5bc",
   "metadata": {},
   "outputs": [],
   "source": []
  }
 ],
 "metadata": {
  "kernelspec": {
   "display_name": "py24",
   "language": "python",
   "name": "python3"
  },
  "language_info": {
   "codemirror_mode": {
    "name": "ipython",
    "version": 3
   },
   "file_extension": ".py",
   "mimetype": "text/x-python",
   "name": "python",
   "nbconvert_exporter": "python",
   "pygments_lexer": "ipython3",
   "version": "3.12.4"
  }
 },
 "nbformat": 4,
 "nbformat_minor": 5
}
